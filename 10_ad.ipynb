{
 "cells": [
  {
   "cell_type": "markdown",
   "id": "cf6014b0",
   "metadata": {},
   "source": [
    "## Some examples on AD\n",
    "\n",
    "Lets consider the Speelpenning problem $f(x)=\\prod_{i=1}^{n} x_i$\n",
    "We can code this in Julia in a variety of ways:"
   ]
  },
  {
   "cell_type": "code",
   "execution_count": null,
   "id": "4cf95eeb",
   "metadata": {},
   "outputs": [],
   "source": [
    "f(x) = prod(x)\n",
    "g(x) = reduce(*,x)"
   ]
  },
  {
   "cell_type": "markdown",
   "id": "8502c966",
   "metadata": {},
   "source": [
    "Julia Doc says prod should preferred over reduce(*).\n",
    "\n",
    "Lets give it a try:"
   ]
  },
  {
   "cell_type": "code",
   "execution_count": null,
   "id": "2866ce02",
   "metadata": {},
   "outputs": [],
   "source": [
    "x = collect(range(1.0,5.0)) #numbers of 1 to 5 (float)\n",
    "f(x)"
   ]
  },
  {
   "cell_type": "markdown",
   "id": "19e2a5cb",
   "metadata": {},
   "source": [
    "Now lets try to calculate the Gradient.\n",
    "Choose one of many AD solutions already in the Julia ecosystem.\n",
    "\n",
    "Lets start with forward (Tangent) mode:"
   ]
  },
  {
   "cell_type": "code",
   "execution_count": null,
   "id": "c1b9c528",
   "metadata": {},
   "outputs": [],
   "source": [
    "import ForwardDiff\n",
    "ForwardDiff.gradient(f,x)"
   ]
  },
  {
   "cell_type": "markdown",
   "id": "1cab19ca",
   "metadata": {},
   "source": [
    "What about reverse mode?"
   ]
  },
  {
   "cell_type": "code",
   "execution_count": null,
   "id": "d9842fb2",
   "metadata": {},
   "outputs": [],
   "source": [
    "import Zygote\n",
    "Zygote.gradient(f,x)"
   ]
  },
  {
   "cell_type": "markdown",
   "id": "89e56919",
   "metadata": {},
   "source": [
    "Maybe also FiniteDifferences just to be sure?"
   ]
  },
  {
   "cell_type": "code",
   "execution_count": null,
   "id": "4108bb7d",
   "metadata": {},
   "outputs": [],
   "source": [
    "import FiniteDifferences\n",
    "FiniteDifferences.grad(FiniteDifferences.central_fdm(2, 1), f, x) # 2nd order accurate 1st derivative approx"
   ]
  },
  {
   "cell_type": "markdown",
   "id": "9226f44a",
   "metadata": {},
   "source": [
    "Interjection: FiniteDifferences can do Richardson extrapolation out of the box:"
   ]
  },
  {
   "cell_type": "code",
   "execution_count": null,
   "id": "a1a4a94b",
   "metadata": {},
   "outputs": [],
   "source": [
    "FiniteDifferences.central_fdm(2,1)(x->sin(x),1.0) - cos(1.0) #regular central FD"
   ]
  },
  {
   "cell_type": "code",
   "execution_count": null,
   "id": "a4299c06",
   "metadata": {},
   "outputs": [],
   "source": [
    "FiniteDifferences.extrapolate_fdm(FiniteDifferences.central_fdm(2,1),x->sin(x),1.0)[1] - cos(1.0)"
   ]
  },
  {
   "cell_type": "markdown",
   "id": "0a98eef8",
   "metadata": {},
   "source": [
    "For scalar functions Zygote implements the adjoint operator '"
   ]
  },
  {
   "cell_type": "code",
   "execution_count": null,
   "id": "089a5423",
   "metadata": {},
   "outputs": [],
   "source": [
    "import Zygote\n",
    "using Plots\n",
    "plot(x->sin(x))\n",
    "plot!(x->sin'(x))"
   ]
  },
  {
   "cell_type": "markdown",
   "id": "469a5354",
   "metadata": {},
   "source": [
    "Note that the ' operation actually immediately creates machine code for the derivative"
   ]
  },
  {
   "cell_type": "code",
   "execution_count": null,
   "id": "516614c2",
   "metadata": {},
   "outputs": [],
   "source": [
    "s(x)=x^2\n",
    "@code_llvm debuginfo=:none s'(3.0)"
   ]
  },
  {
   "cell_type": "markdown",
   "id": "d718a49a",
   "metadata": {},
   "source": [
    "## Limitations of Adjoint AD in Zygote"
   ]
  },
  {
   "cell_type": "markdown",
   "id": "e0bf8852",
   "metadata": {},
   "source": [
    "No mutation within Arrays allowed!\n",
    "Consider the following contrived example of constructing a matrix."
   ]
  },
  {
   "cell_type": "code",
   "execution_count": null,
   "id": "8c629305",
   "metadata": {},
   "outputs": [],
   "source": [
    "function mat_sum(p)\n",
    "    A=zeros(3,3)\n",
    "    for i in 1:3\n",
    "        for j in 1:3\n",
    "            A[i,j] = j*p\n",
    "        end\n",
    "    end\n",
    "    sum(A)\n",
    "end"
   ]
  },
  {
   "cell_type": "markdown",
   "id": "404d3651",
   "metadata": {},
   "source": [
    "Calculating the derivative with Zygote will not work!"
   ]
  },
  {
   "cell_type": "code",
   "execution_count": null,
   "id": "cf0416c5",
   "metadata": {},
   "outputs": [],
   "source": [
    "mat_sum'(1.0)"
   ]
  },
  {
   "cell_type": "markdown",
   "id": "149b8b39",
   "metadata": {},
   "source": [
    "If code is written with list comprehensions or other \"pythonic\" looking things it will usually work with Zygote well. However this prevents some vectorization techniques of Julia (e.g. element wise assignment .=) is also not supported.\n",
    "If one is not very used to programming this way this becomes unmaintainable really fast."
   ]
  },
  {
   "cell_type": "code",
   "execution_count": null,
   "id": "66473364",
   "metadata": {},
   "outputs": [],
   "source": [
    "function mat_sum_no_mutation(p)\n",
    "    A=mapreduce(i->ones(3)*i*p, hcat, 1:3) # iterate from 1 to 3, build columns of matrix and concats horizontally\n",
    "    sum(A)\n",
    "end\n",
    "mat_sum_no_mutation'(1.0)"
   ]
  },
  {
   "cell_type": "markdown",
   "id": "97efa937",
   "metadata": {},
   "source": [
    "## Specifying custom adjoints\n",
    "If altering the primal is not feasible or if structure can be exploited we can specify custom rules for the reversal.\n",
    "Lets consider the common problem of the solution of a linear equation system embedded in some other form of computation:"
   ]
  },
  {
   "cell_type": "code",
   "execution_count": 1,
   "id": "3ceceaa8",
   "metadata": {},
   "outputs": [
    {
     "data": {
      "text/plain": [
       "solve (generic function with 1 method)"
      ]
     },
     "execution_count": 1,
     "metadata": {},
     "output_type": "execute_result"
    }
   ],
   "source": [
    "import Random\n",
    "import LinearAlgebra as LA\n",
    "import Zygote\n",
    "import ForwardDiff\n",
    "import ChainRulesCore\n",
    "\n",
    "function solve(A,b)\n",
    "    C = LA.factorize(A)\n",
    "    x = C \\ b\n",
    "end"
   ]
  },
  {
   "cell_type": "code",
   "execution_count": 12,
   "id": "d6719c36",
   "metadata": {},
   "outputs": [
    {
     "ename": "LoadError",
     "evalue": "ArgumentError: new: too few arguments (expected 4)",
     "output_type": "error",
     "traceback": [
      "ArgumentError: new: too few arguments (expected 4)",
      "",
      "Stacktrace:",
      "  [1] __new__",
      "    @ ~/.julia/packages/Zygote/DkIUK/src/tools/builtins.jl:9 [inlined]",
      "  [2] adjoint",
      "    @ ~/.julia/packages/Zygote/DkIUK/src/lib/lib.jl:294 [inlined]",
      "  [3] _pullback",
      "    @ ~/.julia/packages/ZygoteRules/AIbCs/src/adjoint.jl:65 [inlined]",
      "  [4] _pullback",
      "    @ ~/julia-1.7.2/share/julia/stdlib/v1.7/LinearAlgebra/src/tridiag.jl:487 [inlined]",
      "  [5] _pullback(::Zygote.Context, ::Type{LinearAlgebra.Tridiagonal{Float64, Vector{Float64}}}, ::Vector{Float64}, ::Vector{Float64}, ::Vector{Float64})",
      "    @ Zygote ~/.julia/packages/Zygote/DkIUK/src/compiler/interface2.jl:0",
      "  [6] _pullback",
      "    @ ~/julia-1.7.2/share/julia/stdlib/v1.7/LinearAlgebra/src/tridiag.jl:522 [inlined]",
      "  [7] _pullback",
      "    @ ~/julia-1.7.2/share/julia/stdlib/v1.7/LinearAlgebra/src/dense.jl:1355 [inlined]",
      "  [8] _pullback(ctx::Zygote.Context, f::typeof(LinearAlgebra.factorize), args::Matrix{Float64})",
      "    @ Zygote ~/.julia/packages/Zygote/DkIUK/src/compiler/interface2.jl:0",
      "  [9] _pullback",
      "    @ ./In[1]:8 [inlined]",
      " [10] _pullback(::Zygote.Context, ::typeof(solve), ::Matrix{Float64}, ::Vector{Int64})",
      "    @ Zygote ~/.julia/packages/Zygote/DkIUK/src/compiler/interface2.jl:0",
      " [11] _apply(::Function, ::Vararg{Any})",
      "    @ Core ./boot.jl:814",
      " [12] adjoint",
      "    @ ~/.julia/packages/Zygote/DkIUK/src/lib/lib.jl:204 [inlined]",
      " [13] _pullback",
      "    @ ~/.julia/packages/ZygoteRules/AIbCs/src/adjoint.jl:65 [inlined]",
      " [14] _pullback",
      "    @ ./operators.jl:1085 [inlined]",
      " [15] _pullback(::Zygote.Context, ::Base.var\"##_#83\", ::Base.Pairs{Symbol, Union{}, Tuple{}, NamedTuple{(), Tuple{}}}, ::ComposedFunction{typeof(Zygote._jvec), typeof(solve)}, ::Matrix{Float64}, ::Vector{Int64})",
      "    @ Zygote ~/.julia/packages/Zygote/DkIUK/src/compiler/interface2.jl:0",
      " [16] _apply(::Function, ::Vararg{Any})",
      "    @ Core ./boot.jl:814",
      " [17] adjoint",
      "    @ ~/.julia/packages/Zygote/DkIUK/src/lib/lib.jl:204 [inlined]",
      " [18] _pullback",
      "    @ ~/.julia/packages/ZygoteRules/AIbCs/src/adjoint.jl:65 [inlined]",
      " [19] _pullback",
      "    @ ./operators.jl:1085 [inlined]",
      " [20] _pullback(::Zygote.Context, ::ComposedFunction{typeof(Zygote._jvec), typeof(solve)}, ::Matrix{Float64}, ::Vector{Int64})",
      "    @ Zygote ~/.julia/packages/Zygote/DkIUK/src/compiler/interface2.jl:0",
      " [21] _pullback(::Function, ::Matrix{Float64}, ::Vector{Int64})",
      "    @ Zygote ~/.julia/packages/Zygote/DkIUK/src/compiler/interface.jl:34",
      " [22] pullback(::Function, ::Matrix{Float64}, ::Vector{Int64})",
      "    @ Zygote ~/.julia/packages/Zygote/DkIUK/src/compiler/interface.jl:40",
      " [23] withjacobian(::Function, ::Matrix{Float64}, ::Vector{Int64})",
      "    @ Zygote ~/.julia/packages/Zygote/DkIUK/src/lib/grad.jl:153",
      " [24] jacobian(::Function, ::Matrix{Float64}, ::Vector{Int64})",
      "    @ Zygote ~/.julia/packages/Zygote/DkIUK/src/lib/grad.jl:140",
      " [25] top-level scope",
      "    @ In[12]:5",
      " [26] eval",
      "    @ ./boot.jl:373 [inlined]",
      " [27] include_string(mapexpr::typeof(REPL.softscope), mod::Module, code::String, filename::String)",
      "    @ Base ./loading.jl:1196"
     ]
    }
   ],
   "source": []
  },
  {
   "cell_type": "markdown",
   "id": "a549f139",
   "metadata": {},
   "source": [
    "Factorize will decide which Factorization to use based of the Type of Matrix A provided (LU for general Matrix, Cholesky for SPD etc).\n",
    "\n",
    "Lets add a custom rrule for Symmetric or SPD Matrices (we can reuse the existing Factorizations)\n",
    "Note that the ∂ symbol is only convention here. It could be called anything. Order of incoming and outgoint adjoints is determined by the argument position in the primal routines."
   ]
  },
  {
   "cell_type": "code",
   "execution_count": 17,
   "id": "2923b87c",
   "metadata": {},
   "outputs": [],
   "source": [
    "function ChainRulesCore.rrule(::typeof(solve), A::T, b::AbstractVector) where T <: Union{LA.Hermitian,LA.Symmetric}\n",
    "    @info \"Chainrule for symmetric Matrix solve triggered.\"\n",
    "    C = LA.factorize(A) # duplication of primal so we can use C later\n",
    "    x = C \\ b\n",
    "    function solve_pullback(∂x) # incoming adjoints\n",
    "        ∂b = C \\ ∂x    # reuse existing factorization to solve C*∂b=∂x\n",
    "        ∂A = -x * ∂b'  # calculate outer product\n",
    "        return ChainRulesCore.NoTangent(), ∂A, ∂b # return adjoints for ∂A, ∂b\n",
    "    end\n",
    "    return x, solve_pullback # return primal result x, pullback will be called during reversal\n",
    "end"
   ]
  },
  {
   "cell_type": "markdown",
   "id": "40bf8619",
   "metadata": {},
   "source": [
    "And another rule for general matrices (we discard the factorization and build a new one for A^T):"
   ]
  },
  {
   "cell_type": "code",
   "execution_count": 29,
   "id": "17739d71",
   "metadata": {},
   "outputs": [],
   "source": [
    "function ChainRulesCore.rrule(::typeof(solve), A, b)\n",
    "    @info \"Chainrule for general matrix solve triggered.\"\n",
    "    x = solve(A,b) # reuse primal implementation\n",
    "    function solve_pullback(∂x)\n",
    "        ∂b = solve(A',∂x) # reuse primal implementation\n",
    "        ∂A = -x * ∂b'\n",
    "        return ChainRulesCore.NoTangent(), ∂A, ∂b\n",
    "    end\n",
    "    return x, solve_pullback\n",
    "end"
   ]
  },
  {
   "cell_type": "code",
   "execution_count": 38,
   "id": "9b44ae3c",
   "metadata": {},
   "outputs": [
    {
     "name": "stderr",
     "output_type": "stream",
     "text": [
      "┌ Info: Chainrule for general matrix solve triggered.\n",
      "└ @ Main In[18]:2\n"
     ]
    },
    {
     "data": {
      "text/plain": [
       "([-0.888888888888889 -0.8888888888888888 0.4444444444444445 0.4444444444444444; 0.4444444444444445 0.4444444444444444 -0.888888888888889 -0.8888888888888888], [1.3333333333333333 -0.6666666666666666; -0.6666666666666666 1.3333333333333333])"
      ]
     },
     "execution_count": 38,
     "metadata": {},
     "output_type": "execute_result"
    }
   ],
   "source": [
    "A=LA.Matrix([1.0 0.5\n",
    "             0.5 1.0])\n",
    "b =[1.0,1.0]\n",
    "typeof(b)\n",
    "solve(A,b)\n",
    "#@code_lowered solve(A,b)\n",
    "Zygote.jacobian(solve,A,b)"
   ]
  },
  {
   "cell_type": "markdown",
   "id": "3240668e",
   "metadata": {},
   "source": [
    "Construct a function $\\mathbb{R}^n \\rightarrow \\mathbb{R}$ which uses solve()\n",
    "(we fix the random seed such that gradient is reproducible)"
   ]
  },
  {
   "cell_type": "code",
   "execution_count": 20,
   "id": "2763bdeb",
   "metadata": {},
   "outputs": [
    {
     "data": {
      "text/plain": [
       "10-element Vector{Float64}:\n",
       " -1.1736201831150836\n",
       " -1.3114173281605968\n",
       " -0.8892580619082893\n",
       " -1.2434775000832616\n",
       "  0.5752833946674542\n",
       "  0.09603324973701619\n",
       " -1.5140451496538492\n",
       "  0.4428517672329901\n",
       "  0.6947751821060821\n",
       "  0.6495724780590411"
      ]
     },
     "execution_count": 20,
     "metadata": {},
     "output_type": "execute_result"
    }
   ],
   "source": [
    "ChainRulesCore.@non_differentiable Random.seed!(::Any...)\n",
    "function foo(p)\n",
    "    Random.seed!(0)\n",
    "    n = length(p)\n",
    "    A = randn(n,n)\n",
    "    A = LA.Hermitian(A + A' + LA.Diagonal(p))\n",
    "    b = randn(n)\n",
    "    x = solve(A,b)\n",
    "    #println(x)\n",
    "    sum(x)\n",
    "end\n",
    "p = randn(10)"
   ]
  },
  {
   "cell_type": "code",
   "execution_count": 21,
   "id": "3edb094b",
   "metadata": {},
   "outputs": [
    {
     "name": "stderr",
     "output_type": "stream",
     "text": [
      "┌ Info: Chainrule for symmetric Matrix solve triggered.\n",
      "└ @ Main In[17]:2\n"
     ]
    },
    {
     "data": {
      "text/plain": [
       "([-0.16224512743328662, -0.5781190985071835, -0.3286065218357177, -0.5162917589606281, 0.015955143927428382, -0.12420307704303024, -0.10617593288054072, -0.002902709816762701, -0.4718317939250771, 0.23973659938718328],)"
      ]
     },
     "execution_count": 21,
     "metadata": {},
     "output_type": "execute_result"
    }
   ],
   "source": [
    "Zygote.gradient(foo,p)\n"
   ]
  },
  {
   "cell_type": "code",
   "execution_count": 22,
   "id": "0f05b0ec",
   "metadata": {},
   "outputs": [
    {
     "data": {
      "text/plain": [
       "10-element Vector{Float64}:\n",
       " -0.1622451274332865\n",
       " -0.5781190985071833\n",
       " -0.32860652183571687\n",
       " -0.5162917589606288\n",
       "  0.01595514392742836\n",
       " -0.12420307704303027\n",
       " -0.10617593288054047\n",
       " -0.0029027098167627007\n",
       " -0.471831793925077\n",
       "  0.23973659938718336"
      ]
     },
     "execution_count": 22,
     "metadata": {},
     "output_type": "execute_result"
    }
   ],
   "source": [
    "ForwardDiff.gradient(foo,p)"
   ]
  },
  {
   "cell_type": "code",
   "execution_count": null,
   "id": "66c0dc92",
   "metadata": {},
   "outputs": [],
   "source": []
  }
 ],
 "metadata": {
  "kernelspec": {
   "display_name": "Julia 1.7.2",
   "language": "julia",
   "name": "julia-1.7"
  },
  "language_info": {
   "file_extension": ".jl",
   "mimetype": "application/julia",
   "name": "julia",
   "version": "1.7.2"
  }
 },
 "nbformat": 4,
 "nbformat_minor": 5
}
