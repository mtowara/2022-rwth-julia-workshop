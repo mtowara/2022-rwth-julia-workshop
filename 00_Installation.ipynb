{
 "cells": [
  {
   "cell_type": "markdown",
   "id": "16b28ead",
   "metadata": {},
   "source": [
    "# Installation and Setup"
   ]
  },
  {
   "cell_type": "markdown",
   "id": "8829affd",
   "metadata": {},
   "source": [
    "## Software and material\n",
    "What you need for the workshop (quick overview):\n",
    "\n",
    "- [Julia 1.7](https://julialang.org/downloads/)\n",
    "- [Jupyter](https://jupyter.org/) and [IJulia.jl](https://github.com/JuliaLang/IJulia.jl)\n",
    "- This repository of workshop materials\n",
    "- All required dependencies (Julia packages) for the workshop\n",
    "\n",
    "### Getting Julia\n",
    "For following the course you will need at least Julia 1.6, but for full compatibility **Julia 1.7** is recommended.\n",
    "Julia can be easily obtained in binary form from [Julia downloads](https://julialang.org/downloads/).\n",
    "\n",
    "### Getting all the rest\n",
    "The easiest way to get the remaining files and dependencies\n",
    "is to [download the install.jl script](https://github.com/mtowara/2022-rwth-julia-workshop/blob/master/install.jl) and run it from julia. See the instructions [on the github repository](https://github.com/mfherbst/2022-rwth-julia-workshop).\n",
    "\n",
    "As an alternative you can also also run the following commands manually\n",
    "(this requires to have `git` and `julia` available from the commandline):\n",
    "```\n",
    "git clone https://github.com/mfherbst/2022-rwth-julia-workshop\n",
    "cd 2022-rwth-julia-workshop\n",
    "julia install-manual.jl\n",
    "```\n",
    "\n",
    "### Troubleshooting\n",
    "If you are facing issues, check out\n",
    "the [great troubleshooting section](https://carstenbauer.github.io/WorkshopWizard.jl/dev/troubleshooting/)\n",
    "from the WorkshopWizard package by Carsten Bauer (which `install.jl` is using)."
   ]
  },
  {
   "cell_type": "markdown",
   "id": "d3d75953",
   "metadata": {},
   "source": [
    "## Verifying everything works\n",
    "\n",
    "A few quick commands to run:"
   ]
  },
  {
   "cell_type": "code",
   "execution_count": null,
   "id": "7bb04662",
   "metadata": {},
   "outputs": [],
   "source": [
    "using Plots\n",
    "\n",
    "p = plot(1, xlim=(0, 3π), ylim=(-1.5, 1.5), title=\"Sine\", marker=2)\n",
    "N = 100\n",
    "@gif for i=1:N\n",
    "    x = (i-1) * 3π / N\n",
    "    push!(p, x, sin(x))\n",
    "end"
   ]
  }
 ],
 "metadata": {
  "kernelspec": {
   "display_name": "Julia 1.7.2",
   "language": "julia",
   "name": "julia-1.7"
  },
  "language_info": {
   "file_extension": ".jl",
   "mimetype": "application/julia",
   "name": "julia",
   "version": "1.7.2"
  }
 },
 "nbformat": 4,
 "nbformat_minor": 5
}
